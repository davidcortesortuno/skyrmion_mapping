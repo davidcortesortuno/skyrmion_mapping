{
 "cells": [
  {
   "cell_type": "code",
   "execution_count": 1,
   "metadata": {
    "collapsed": false
   },
   "outputs": [],
   "source": [
    "import numpy as np\n",
    "import fidimag\n",
    "from fidimag.micro.sim import Sim\n",
    "from fidimag.common.cuboid_mesh import CuboidMesh\n",
    "import fidimag.common.constant as const"
   ]
  },
  {
   "cell_type": "code",
   "execution_count": 2,
   "metadata": {
    "collapsed": false
   },
   "outputs": [],
   "source": [
    "import matplotlib.pyplot as plt\n",
    "%matplotlib inline\n",
    "\n",
    "import matplotlib as mpl\n",
    "import matplotlib.cm as cm"
   ]
  },
  {
   "cell_type": "code",
   "execution_count": 3,
   "metadata": {
    "collapsed": true
   },
   "outputs": [],
   "source": [
    "# import mayavi\n",
    "from mayavi import mlab"
   ]
  },
  {
   "cell_type": "code",
   "execution_count": 4,
   "metadata": {
    "collapsed": false
   },
   "outputs": [],
   "source": [
    "Ms = 3.84e5\n",
    "mesh = CuboidMesh(nx=80, ny=80, nz=1, \n",
    "                  dx=1, dy=1, dz=1, unit_length=1e-9)\n",
    "sim = Sim(mesh)\n",
    "\n",
    "CENTRE_X = (np.max(mesh.coordinates[:, 0])\n",
    "            - np.min(mesh.coordinates[:, 0])) * 0.5 + np.min(mesh.coordinates[:, 0])\n",
    "CENTRE_Y = (np.max(mesh.coordinates[:, 1])\n",
    "            - np.min(mesh.coordinates[:, 1])) * 0.5 + np.min(mesh.coordinates[:, 1])\n",
    "\n",
    "DIAMETER = 80\n",
    "def disk(r):\n",
    "    x, y = r[0] - CENTRE_X, r[1] - CENTRE_Y\n",
    "    if x ** 2. + y ** 2 < (0.5 * DIAMETER) ** 2.:\n",
    "        return Ms\n",
    "    else:\n",
    "        return 0\n",
    "\n",
    "sim.set_Ms(disk)\n"
   ]
  },
  {
   "cell_type": "code",
   "execution_count": 5,
   "metadata": {
    "collapsed": false
   },
   "outputs": [],
   "source": [
    "r = sim.mesh.coordinates\n",
    "\n",
    "r_sphere = (40, 40, 0.5)\n",
    "sphere = np.logical_and((r[:, 0] - r_sphere[0]) ** 2 + (r[:, 1] - r_sphere[1]) ** 2  +  (r[:, 2] - r_sphere[2]) ** 2 < 30 ** 2,\n",
    "                        (r[:, 0] - r_sphere[0]) ** 2 + (r[:, 1] - r_sphere[1]) ** 2  +  (r[:, 2] - r_sphere[2]) ** 2 > 0 ** 2\n",
    "                         )\n",
    "\n",
    "r_rel = np.copy(r) \n",
    "r_rel[:, 0] = r_rel[:, 0] - r_sphere[0]\n",
    "r_rel[:, 1] = r_rel[:, 1] - r_sphere[1]\n",
    "r_rel[:, 2] = r_rel[:, 2] - r_sphere[2]"
   ]
  },
  {
   "cell_type": "code",
   "execution_count": 6,
   "metadata": {
    "collapsed": false
   },
   "outputs": [],
   "source": [
    "for i, pos in enumerate(r): \n",
    "    distance = (pos[0] - r_sphere[0]) ** 2 + (pos[1] - r_sphere[1]) ** 2\n",
    "    if (distance > 5 ** 2 and distance < 8 ** 2) and i % 3 == 0:\n",
    "        sphere[i] = False\n",
    "    elif (distance >= 8 ** 2) and i % 2 == 0:\n",
    "        sphere[i] = False"
   ]
  },
  {
   "cell_type": "code",
   "execution_count": 7,
   "metadata": {
    "collapsed": true
   },
   "outputs": [],
   "source": [
    "# Filter for the skyrmion field\n",
    "# sphere_sk = np.logical_and((r[:, 0] - r_sphere[0]) ** 2 + \n",
    "#                            (r[:, 1] - r_sphere[1]) ** 2 +  \n",
    "#                            (r[:, 2] - r_sphere[2]) ** 2 < 12 ** 2,\n",
    "#                            )\n",
    "sphere_sk = np.logical_and(np.abs(r[:, 0] - r_sphere[0]) < 12,\n",
    "                           np.abs(r[:, 1] - r_sphere[1]) < 12\n",
    "                           )"
   ]
  },
  {
   "cell_type": "markdown",
   "metadata": {},
   "source": [
    "## Stereographic"
   ]
  },
  {
   "cell_type": "code",
   "execution_count": 8,
   "metadata": {
    "collapsed": true
   },
   "outputs": [],
   "source": [
    "sim.set_m(np.load('sims/skyrmion_bulk_DMI_npys/m_229.npy'))\n",
    "m = sim.spin.reshape(-1, 3)\n",
    "\n",
    "m_inside = m[sphere]\n",
    "r_rel_inside = r_rel[sphere]\n",
    "n = 6\n",
    "X, Y, Z = r_rel_inside[:, 0] / n, r_rel_inside[:, 1] / n, r_rel_inside[:, 2] / n\n",
    "\n",
    "nh = X ** 2 + Y ** 2 > 0.5 ** 2\n",
    "sh = X ** 2 + Y ** 2 <= 0.5 ** 2\n",
    "\n",
    "xs = 2 * X / (1 + X ** 2 + Y ** 2)\n",
    "ys = 2 * Y / (1 + X ** 2 + Y ** 2)\n",
    "zs = (-1 + X ** 2 + Y ** 2) / (1 + X ** 2 + Y ** 2)"
   ]
  },
  {
   "cell_type": "code",
   "execution_count": 54,
   "metadata": {
    "collapsed": false
   },
   "outputs": [],
   "source": [
    "fig = mlab.figure(bgcolor=(1, 1, 1), fgcolor=(0, 0, 0), size=(1000, 1000))\n",
    "\n",
    "q = mlab.quiver3d(xs, ys, zs,\n",
    "                  m_inside[:, 0], m_inside[:, 1], m_inside[:, 2],\n",
    "                  scalars=m_inside[:, 2],\n",
    "                  resolution=80, line_width=3, colormap='RdYlBu'\n",
    "                  )\n",
    "q.glyph.color_mode = 'color_by_scalar'\n",
    "q.glyph.glyph_source.glyph_source = q.glyph.glyph_source.glyph_dict['cone_source']\n",
    "q.glyph.glyph_source.glyph_position = 'center'\n",
    "q.glyph.glyph_source.glyph_source.resolution = 100\n",
    "q.glyph.glyph_source.glyph_source.radius = 0.4\n",
    "q.glyph.glyph.scale_factor = 0.13\n",
    "\n",
    "mlab.points3d([0], [0], [0], 1, scale_factor=1.95, resolution=50, color=(1, 1, 1))\n",
    "\n",
    "fig.scene.x_minus_view()\n",
    "# fig.scene.camera.position = [4.7252755610085764, 4.2488252455584137, 3.4293239539205569]\n",
    "# fig.scene.camera.focal_point = [0.15362982920521273, 0.1706501120580434, -0.18238092178350548]\n",
    "# fig.scene.camera.view_angle = 30.0\n",
    "# fig.scene.camera.view_up = [-0.37799885829766694, -0.33916983382114257, 0.86144105251108094]\n",
    "# fig.scene.camera.clipping_range = [3.3690203293112528, 12.014591840217518]\n",
    "\n",
    "mlab.savefig('skyrmion_bulk-DMI_stereographic.pov')\n",
    "\n",
    "mlab.show()"
   ]
  },
  {
   "cell_type": "markdown",
   "metadata": {},
   "source": [
    "Skyrmion field:"
   ]
  },
  {
   "cell_type": "code",
   "execution_count": 11,
   "metadata": {
    "collapsed": false
   },
   "outputs": [],
   "source": [
    "fig = mlab.figure(bgcolor=(1, 1, 1), fgcolor=(0, 0, 0), size=(1000, 1000))\n",
    "\n",
    "q = mlab.quiver3d(r_rel[:, 0][sphere_sk], r_rel[:, 1][sphere_sk], r_rel[:, 2][sphere_sk],\n",
    "                  m[:, 0][sphere_sk], m[:, 1][sphere_sk], m[:, 2][sphere_sk],\n",
    "                  scalars=m[:, 2][sphere_sk],\n",
    "                  resolution=80, line_width=3, colormap='RdYlBu'\n",
    "                  )\n",
    "q.glyph.color_mode = 'color_by_scalar'\n",
    "q.glyph.glyph_source.glyph_source = q.glyph.glyph_source.glyph_dict['cone_source']\n",
    "q.glyph.glyph_source.glyph_position = 'center'\n",
    "q.glyph.glyph_source.glyph_source.resolution = 100\n",
    "q.glyph.glyph_source.glyph_source.radius = 0.4\n",
    "q.glyph.glyph.scale_factor = 0.9\n",
    "\n",
    "# mlab.points3d([0], [0], [0], 1, scale_factor=12, resolution=50, color=(1, 1, 1), opacity=0.3)\n",
    "\n",
    "fig.scene.z_plus_view()\n",
    "\n",
    "mlab.savefig('skyrmion_bulk-DMI.pov')\n",
    "mlab.show()"
   ]
  },
  {
   "cell_type": "markdown",
   "metadata": {},
   "source": [
    "## Interfacial DMI"
   ]
  },
  {
   "cell_type": "code",
   "execution_count": 12,
   "metadata": {
    "collapsed": true
   },
   "outputs": [],
   "source": [
    "sim.set_m(np.load('sims/skyrmion_interfacial_DMI_npys/m_251.npy'))\n",
    "m = sim.spin.reshape(-1, 3)\n",
    "\n",
    "m_inside = m[sphere]\n",
    "r_rel_inside = r_rel[sphere]\n",
    "n = 6\n",
    "X, Y, Z = r_rel_inside[:, 0] / n, r_rel_inside[:, 1] / n, r_rel_inside[:, 2] / n\n",
    "\n",
    "nh = X ** 2 + Y ** 2 > 0.5 ** 2\n",
    "sh = X ** 2 + Y ** 2 <= 0.5 ** 2\n",
    "\n",
    "xs = 2 * X / (1 + X ** 2 + Y ** 2)\n",
    "ys = 2 * Y / (1 + X ** 2 + Y ** 2)\n",
    "zs = (-1 + X ** 2 + Y ** 2) / (1 + X ** 2 + Y ** 2)"
   ]
  },
  {
   "cell_type": "code",
   "execution_count": 57,
   "metadata": {
    "collapsed": true
   },
   "outputs": [],
   "source": [
    "fig = mlab.figure(bgcolor=(1, 1, 1), fgcolor=(0, 0, 0), size=(1000, 1000))\n",
    "\n",
    "q = mlab.quiver3d(xs, ys, zs,\n",
    "                  m_inside[:, 0], m_inside[:, 1], m_inside[:, 2],\n",
    "                  scalars=m_inside[:, 2],\n",
    "                  resolution=80, line_width=3, colormap='RdYlBu'\n",
    "                  )\n",
    "q.glyph.color_mode = 'color_by_scalar'\n",
    "q.glyph.glyph_source.glyph_source = q.glyph.glyph_source.glyph_dict['cone_source']\n",
    "q.glyph.glyph_source.glyph_position = 'center'\n",
    "q.glyph.glyph_source.glyph_source.resolution = 100\n",
    "q.glyph.glyph_source.glyph_source.radius = 0.4\n",
    "q.glyph.glyph.scale_factor = 0.15\n",
    "\n",
    "mlab.points3d([0], [0], [0], 1, scale_factor=1.95, resolution=50, color=(1, 1, 1))\n",
    "\n",
    "fig.scene.x_minus_view()\n",
    "# fig.scene.camera.position = [4.7252755610085764, 4.2488252455584137, 3.4293239539205569]\n",
    "# fig.scene.camera.focal_point = [0.15362982920521273, 0.1706501120580434, -0.18238092178350548]\n",
    "# fig.scene.camera.view_angle = 30.0\n",
    "# fig.scene.camera.view_up = [-0.37799885829766694, -0.33916983382114257, 0.86144105251108094]\n",
    "# fig.scene.camera.clipping_range = [3.3690203293112528, 12.014591840217518]\n",
    "\n",
    "mlab.savefig('skyrmion_interfacial-DMI_stereographic.pov')\n",
    "\n",
    "mlab.show()"
   ]
  },
  {
   "cell_type": "code",
   "execution_count": 13,
   "metadata": {
    "collapsed": true
   },
   "outputs": [],
   "source": [
    "fig = mlab.figure(bgcolor=(1, 1, 1), fgcolor=(0, 0, 0), size=(1000, 1000))\n",
    "\n",
    "q = mlab.quiver3d(r_rel[:, 0][sphere_sk], r_rel[:, 1][sphere_sk], r_rel[:, 2][sphere_sk],\n",
    "                  m[:, 0][sphere_sk], m[:, 1][sphere_sk], m[:, 2][sphere_sk],\n",
    "                  scalars=m[:, 2][sphere_sk],\n",
    "                  resolution=80, line_width=3, colormap='RdYlBu'\n",
    "                  )\n",
    "q.glyph.color_mode = 'color_by_scalar'\n",
    "q.glyph.glyph_source.glyph_source = q.glyph.glyph_source.glyph_dict['cone_source']\n",
    "q.glyph.glyph_source.glyph_position = 'center'\n",
    "q.glyph.glyph_source.glyph_source.resolution = 100\n",
    "q.glyph.glyph_source.glyph_source.radius = 0.4\n",
    "q.glyph.glyph.scale_factor = 0.9\n",
    "\n",
    "# mlab.points3d([0], [0], [0], 1, scale_factor=12, resolution=50, color=(1, 1, 1), opacity=0.3)\n",
    "\n",
    "fig.scene.z_plus_view()\n",
    "\n",
    "mlab.savefig('skyrmion_interfacial-DMI.pov')\n",
    "mlab.show()"
   ]
  },
  {
   "cell_type": "code",
   "execution_count": null,
   "metadata": {
    "collapsed": true
   },
   "outputs": [],
   "source": []
  }
 ],
 "metadata": {
  "anaconda-cloud": {},
  "hide_input": false,
  "kernelspec": {
   "display_name": "Python [default]",
   "language": "python",
   "name": "python3"
  },
  "language_info": {
   "codemirror_mode": {
    "name": "ipython",
    "version": 3
   },
   "file_extension": ".py",
   "mimetype": "text/x-python",
   "name": "python",
   "nbconvert_exporter": "python",
   "pygments_lexer": "ipython3",
   "version": "3.5.2"
  }
 },
 "nbformat": 4,
 "nbformat_minor": 1
}
